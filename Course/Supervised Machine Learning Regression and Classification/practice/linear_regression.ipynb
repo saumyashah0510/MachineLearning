{
 "cells": [
  {
   "cell_type": "code",
   "execution_count": 2,
   "id": "63a8bf9b",
   "metadata": {},
   "outputs": [],
   "source": [
    "import numpy as np"
   ]
  },
  {
   "cell_type": "code",
   "execution_count": 3,
   "id": "931c7a20",
   "metadata": {},
   "outputs": [],
   "source": [
    "x = np.array([1,2])\n",
    "y = np.array([300,500])"
   ]
  },
  {
   "cell_type": "code",
   "execution_count": 4,
   "id": "e57f8e88",
   "metadata": {},
   "outputs": [],
   "source": [
    "def cost_function(x,y,w,b):\n",
    "\n",
    "    m = x.shape[0]\n",
    "    cost = 0\n",
    "\n",
    "    for i in range(m):\n",
    "        f_wb = w*x[i] + b\n",
    "        cost += (f_wb - y[i])**2\n",
    "    Total_cost = cost/(2*m)    \n",
    "\n",
    "    return Total_cost"
   ]
  },
  {
   "cell_type": "code",
   "execution_count": 5,
   "id": "615bf2f7",
   "metadata": {},
   "outputs": [],
   "source": [
    "\n",
    "def compute_gradient(x,y,w,b):\n",
    "\n",
    "    m = x.shape[0]\n",
    "    d_dw = 0\n",
    "    d_db = 0\n",
    "\n",
    "    for i in range(m):\n",
    "        f_wb = w*x[i] + b\n",
    "        d_dw += (f_wb - y[i])*x[i]\n",
    "        d_db += f_wb - y[i]\n",
    "    d_dw = d_dw/m\n",
    "    d_db = d_db/m    \n",
    "\n",
    "    return d_dw,d_db"
   ]
  }
 ],
 "metadata": {
  "kernelspec": {
   "display_name": ".venv (3.13.2)",
   "language": "python",
   "name": "python3"
  },
  "language_info": {
   "codemirror_mode": {
    "name": "ipython",
    "version": 3
   },
   "file_extension": ".py",
   "mimetype": "text/x-python",
   "name": "python",
   "nbconvert_exporter": "python",
   "pygments_lexer": "ipython3",
   "version": "3.13.2"
  }
 },
 "nbformat": 4,
 "nbformat_minor": 5
}
