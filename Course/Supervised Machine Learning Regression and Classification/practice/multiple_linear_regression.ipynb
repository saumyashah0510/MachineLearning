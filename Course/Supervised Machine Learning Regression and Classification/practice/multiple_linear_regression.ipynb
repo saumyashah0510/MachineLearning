{
 "cells": [
  {
   "cell_type": "code",
   "execution_count": 1,
   "id": "b66912a5",
   "metadata": {},
   "outputs": [],
   "source": [
    "import numpy as np"
   ]
  },
  {
   "cell_type": "code",
   "execution_count": 2,
   "id": "e5cc12df",
   "metadata": {},
   "outputs": [],
   "source": [
    "x = np.array([[2104, 5, 1, 45], [1416, 3, 2, 40], [852, 2, 1, 35]])\n",
    "y = np.array([460, 232, 178])"
   ]
  },
  {
   "cell_type": "code",
   "execution_count": 3,
   "id": "c944640b",
   "metadata": {},
   "outputs": [],
   "source": [
    "b = 785.1811367994083\n",
    "w = np.array([ 0.39133535, 18.75376741, -53.36032453, -26.42131618])"
   ]
  },
  {
   "cell_type": "code",
   "execution_count": 8,
   "id": "47e7150c",
   "metadata": {},
   "outputs": [],
   "source": [
    "def calculate_f(x,w,b):\n",
    "\n",
    "    f = np.dot(w,x) + b\n",
    "    return f\n",
    "    "
   ]
  },
  {
   "cell_type": "code",
   "execution_count": 10,
   "id": "d7e885b0",
   "metadata": {},
   "outputs": [],
   "source": [
    "def compute_cost(x,y,w,b):\n",
    "\n",
    "    m = x.shape[0]\n",
    "    cost = 0\n",
    "\n",
    "    for i in range(m):\n",
    "        f_wb_i = np.dot(x[i],w) + b\n",
    "        cost += (f_wb_i - y[i])**2 \n",
    "    total_cost = cost/(2*m)    \n",
    "    return total_cost"
   ]
  },
  {
   "cell_type": "code",
   "execution_count": 11,
   "id": "3b72078b",
   "metadata": {},
   "outputs": [],
   "source": [
    "def compute_gradient(x,y,w,b):\n",
    "\n",
    "    m = x.shape[0]\n",
    "    d_dw = 0\n",
    "    d_db = 0\n",
    "\n",
    "    for i in range(m):\n",
    "        f_wb = np.dot(x[i],w) + b\n",
    "        d_dw += (f_wb - y[i])*x[i]\n",
    "        d_db += f_wb - y[i]\n",
    "    d_dw = d_dw/m\n",
    "    d_db = d_db/m    \n",
    "\n",
    "    return d_dw,d_db"
   ]
  }
 ],
 "metadata": {
  "kernelspec": {
   "display_name": ".venv (3.13.2)",
   "language": "python",
   "name": "python3"
  },
  "language_info": {
   "codemirror_mode": {
    "name": "ipython",
    "version": 3
   },
   "file_extension": ".py",
   "mimetype": "text/x-python",
   "name": "python",
   "nbconvert_exporter": "python",
   "pygments_lexer": "ipython3",
   "version": "3.13.2"
  }
 },
 "nbformat": 4,
 "nbformat_minor": 5
}
