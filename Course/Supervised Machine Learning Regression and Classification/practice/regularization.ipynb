{
 "cells": [
  {
   "cell_type": "code",
   "execution_count": 1,
   "id": "951e70bb",
   "metadata": {},
   "outputs": [],
   "source": [
    "import numpy as np"
   ]
  },
  {
   "cell_type": "code",
   "execution_count": 2,
   "id": "32f6402c",
   "metadata": {},
   "outputs": [],
   "source": [
    "def sigmoid(z):\n",
    "    return 1/(1 + np.exp(-z))"
   ]
  },
  {
   "cell_type": "code",
   "execution_count": 7,
   "id": "8ea938bf",
   "metadata": {},
   "outputs": [],
   "source": [
    "def compute_cost_linear_reg(x,y,w,b,lambda_ = 1):\n",
    "    \n",
    "    m = x.shape[0]\n",
    "    n = len(w)\n",
    "    cost = 0\n",
    "\n",
    "    for i in range(m):\n",
    "        f_wb = np.dot(x[i],w) + b\n",
    "        cost += (f_wb - y[i]) ** 2\n",
    "    cost = cost/(2*m)\n",
    "\n",
    "    reg_cost = 0\n",
    "    for j in range(n):\n",
    "        reg_cost += (w[j] ** 2)\n",
    "    reg_cost = (lambda_/(2*m))*reg_cost\n",
    "\n",
    "    total_cost = reg_cost + cost\n",
    "    return total_cost            "
   ]
  },
  {
   "cell_type": "code",
   "execution_count": 9,
   "id": "4156c323",
   "metadata": {},
   "outputs": [],
   "source": [
    "def compute_cost_logistic_reg(x,y,w,b,lambda_ = 1):\n",
    "    \n",
    "    m = x.shape[0]\n",
    "    n = len(w)\n",
    "    cost = 0\n",
    "\n",
    "    for i in range(m):\n",
    "        f_wb_i = sigmoid(np.dot(x[i],w)+b)\n",
    "        cost += -y[i]*np.log(f_wb_i) - (1-y[i])*np.log(1-f_wb_i) \n",
    "    cost = cost/(2*m)\n",
    "\n",
    "    reg_cost = 0\n",
    "    for j in range(n):\n",
    "        reg_cost += (w[j] **2)\n",
    "    reg_cost = (lambda_/(2*m)) * reg_cost\n",
    "\n",
    "    total_cost = reg_cost + cost\n",
    "    return total_cost        "
   ]
  },
  {
   "cell_type": "code",
   "execution_count": 12,
   "id": "ebd1c44c",
   "metadata": {},
   "outputs": [],
   "source": [
    "def compute_cost_linear_reg(x,y,w,b,lambda_):\n",
    "\n",
    "    m,n = x.shape\n",
    "    dj_dw = np.zeros((n,))\n",
    "    dj_db = 0\n",
    "\n",
    "    for i in range(m):\n",
    "        error = ((np.dot(w,x[i])+b) - y[i]) \n",
    "\n",
    "        for j in range(n):\n",
    "            dj_dw[j] += error*x[i,j]\n",
    "        dj_db += error\n",
    "\n",
    "    dj_dw = dj_dw/m\n",
    "    dj_db = dj_db/m\n",
    "\n",
    "    for j in range(n):\n",
    "        dj_dw[j] = dj_dw[j] + (lambda_/m)*w[j]\n",
    "\n",
    "    return dj_dw,dj_db             \n"
   ]
  },
  {
   "cell_type": "code",
   "execution_count": null,
   "id": "303958b3",
   "metadata": {},
   "outputs": [],
   "source": [
    "def compute_gradient_logistic_reg(x,y,w,b,lambda_):\n",
    "\n",
    "    m,n = x.shape\n",
    "    dj_dw = np.zeros((n,))\n",
    "    dj_db = 0\n",
    "\n",
    "    for i in range(m):\n",
    "        f_wb = sigmoid(np.dot(x[i],w)+b)\n",
    "        error = f_wb - y[i]\n",
    "\n",
    "        for j in range(n):\n",
    "            dj_dw[j] += error*x[i,j]\n",
    "        dj_db += error\n",
    "\n",
    "    dj_dw = dj_dw/m\n",
    "    dj_db = dj_db/m\n",
    "\n",
    "    for j in range(n):\n",
    "        dj_dw[j] = dj_dw[j] + (lambda_/m)*w[j]\n",
    "\n",
    "    return dj_dw,dj_db             "
   ]
  },
  {
   "cell_type": "markdown",
   "id": "7ff5c8c4",
   "metadata": {},
   "source": [
    "## Better Optimizeed Method\n"
   ]
  },
  {
   "cell_type": "code",
   "execution_count": 15,
   "id": "e8a6ae78",
   "metadata": {},
   "outputs": [],
   "source": [
    "def compute_cost_linear_reg_opt(x,y,w,b,lambda_ = 1):\n",
    "    \n",
    "    m = x.shape[0]\n",
    "\n",
    "    f_wb = np.dot(w,x) + b\n",
    "    cost = (1/(2*m)) * np.sum((f_wb - y) ** 2)\n",
    "\n",
    "    reg_cost = (lambda_/(2*m)) * np.sum(w ** 2)\n",
    "\n",
    "    total_cost = cost + reg_cost\n",
    "    return total_cost"
   ]
  },
  {
   "cell_type": "code",
   "execution_count": 16,
   "id": "c0d22d51",
   "metadata": {},
   "outputs": [],
   "source": [
    "def compute_cost_logistic_reg(x,y,w,b,lambda_ = 1):\n",
    "\n",
    "    m = x.shape[0]\n",
    "    \n",
    "    f_wb = sigmoid(np.dot(w,x)+b)\n",
    "    cost = (1/m) * np.sum(-y*np.log(f_wb) - (1-y)*np.log(1-f_wb))\n",
    "\n",
    "    reg_cost = (lambda_/(2*m)) * np.sum(w**2)\n",
    "\n",
    "    total_cost = cost + reg_cost\n",
    "    return total_cost\n",
    "    "
   ]
  },
  {
   "cell_type": "code",
   "execution_count": null,
   "id": "d9781406",
   "metadata": {},
   "outputs": [],
   "source": [
    "def compute_cost_linear_reg(x,y,w,b,lambda_):\n",
    "    \n",
    "    m = x.shape[0]\n",
    "    \n",
    "    f_wb = np.dot(x, w) + b   \n",
    "    error = f_wb - y          \n",
    "\n",
    "    dj_dw = (1/m) * (np.dot(x.T, error) + lambda_ * w)  \n",
    "    dj_db = (1/m) * np.sum(error)                       \n",
    "\n",
    "    return dj_dw, dj_db"
   ]
  },
  {
   "cell_type": "code",
   "execution_count": 18,
   "id": "db4d74e6",
   "metadata": {},
   "outputs": [],
   "source": [
    "def compute_gradient_logistic_reg(x,y,w,b,lambda_):\n",
    "\n",
    "    m = x.shape[0]\n",
    "\n",
    "    f_wb = sigmoid(np.dot(x, w) + b)   \n",
    "    error = f_wb - y                   \n",
    "\n",
    "    \n",
    "    dj_dw = (1/m) * (np.dot(x.T, error) + lambda_ * w)  \n",
    "    dj_db = (1/m) * np.sum(error)                       \n",
    "\n",
    "    return dj_dw, dj_db         "
   ]
  }
 ],
 "metadata": {
  "kernelspec": {
   "display_name": ".venv (3.13.2)",
   "language": "python",
   "name": "python3"
  },
  "language_info": {
   "codemirror_mode": {
    "name": "ipython",
    "version": 3
   },
   "file_extension": ".py",
   "mimetype": "text/x-python",
   "name": "python",
   "nbconvert_exporter": "python",
   "pygments_lexer": "ipython3",
   "version": "3.13.2"
  }
 },
 "nbformat": 4,
 "nbformat_minor": 5
}
