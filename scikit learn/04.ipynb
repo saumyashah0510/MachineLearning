{
 "cells": [
  {
   "cell_type": "markdown",
   "id": "6d75b889",
   "metadata": {},
   "source": [
    "# Classification\n"
   ]
  },
  {
   "cell_type": "markdown",
   "id": "f50270f0",
   "metadata": {},
   "source": []
  }
 ],
 "metadata": {
  "language_info": {
   "name": "python"
  }
 },
 "nbformat": 4,
 "nbformat_minor": 5
}
