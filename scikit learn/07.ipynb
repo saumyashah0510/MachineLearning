{
 "cells": [
  {
   "cell_type": "markdown",
   "id": "940df0c8",
   "metadata": {},
   "source": [
    "# Cross Validation\n",
    "\n",
    "🔹 The Problem\n",
    "\n",
    "If you train and test on the same dataset, your model might look perfect, but it’s actually just memorizing (overfitting).\n",
    "So we split data into train and test. But one single split might be misleading (maybe the test set is too easy/hard).\n",
    "\n",
    "🔹 The Solution → Cross-Validation\n",
    "\n",
    "Cross-validation avoids this by splitting the dataset into multiple folds (subsets) and training/testing the model on different combinations.\n",
    "\n",
    "🟢 Example: k-Fold Cross Validation\n",
    "\n",
    "Split the data into k equal parts (folds).\n",
    "\n",
    "For each round:\n",
    "\n",
    "Use k-1 folds for training\n",
    "\n",
    "Use 1 fold for testing\n",
    "\n",
    "Repeat k times (so each fold is used once as a test set).\n",
    "\n",
    "Take the average score across all k runs.\n",
    "\n",
    "👉 Example with k=5:\n",
    "\n",
    "Round 1: Train on folds 2–5, test on fold 1\n",
    "\n",
    "Round 2: Train on folds 1,3–5, test on fold 2\n",
    "\n",
    "…\n",
    "\n",
    "Round 5: Train on folds 1–4, test on fold 5\n",
    "\n",
    "🟢 Benefits\n",
    "\n",
    "More reliable estimate of performance (not dependent on one split).\n",
    "\n",
    "Uses the entire dataset for both training and testing (different rounds).\n",
    "\n",
    "Helps detect overfitting."
   ]
  },
  {
   "cell_type": "markdown",
   "id": "46f2fbcc",
   "metadata": {},
   "source": []
  }
 ],
 "metadata": {
  "language_info": {
   "name": "python"
  }
 },
 "nbformat": 4,
 "nbformat_minor": 5
}
