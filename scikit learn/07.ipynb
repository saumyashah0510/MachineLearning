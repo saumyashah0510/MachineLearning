{
 "cells": [
  {
   "cell_type": "markdown",
   "id": "940df0c8",
   "metadata": {},
   "source": [
    "# Cross Validation\n",
    "\n",
    "🔹 The Problem\n",
    "\n",
    "If you train and test on the same dataset, your model might look perfect, but it’s actually just memorizing (overfitting).\n",
    "So we split data into train and test. But one single split might be misleading (maybe the test set is too easy/hard).\n",
    "\n",
    "🔹 The Solution → Cross-Validation\n",
    "\n",
    "Cross-validation avoids this by splitting the dataset into multiple folds (subsets) and training/testing the model on different combinations.\n",
    "\n",
    "🟢 Example: k-Fold Cross Validation\n",
    "\n",
    "Split the data into k equal parts (folds).\n",
    "\n",
    "For each round:\n",
    "\n",
    "Use k-1 folds for training\n",
    "\n",
    "Use 1 fold for testing\n",
    "\n",
    "Repeat k times (so each fold is used once as a test set).\n",
    "\n",
    "Take the average score across all k runs.\n",
    "\n",
    "👉 Example with k=5:\n",
    "\n",
    "Round 1: Train on folds 2–5, test on fold 1\n",
    "\n",
    "Round 2: Train on folds 1,3–5, test on fold 2\n",
    "\n",
    "…\n",
    "\n",
    "Round 5: Train on folds 1–4, test on fold 5\n",
    "\n",
    "🟢 Benefits\n",
    "\n",
    "More reliable estimate of performance (not dependent on one split).\n",
    "\n",
    "Uses the entire dataset for both training and testing (different rounds).\n",
    "\n",
    "Helps detect overfitting."
   ]
  },
  {
   "cell_type": "code",
   "execution_count": 1,
   "id": "46f2fbcc",
   "metadata": {},
   "outputs": [],
   "source": [
    "from sklearn.datasets import load_breast_cancer\n",
    "from sklearn.neighbors import KNeighborsClassifier\n",
    "from sklearn.preprocessing import StandardScaler"
   ]
  },
  {
   "cell_type": "code",
   "execution_count": 2,
   "id": "857fb3b1",
   "metadata": {},
   "outputs": [],
   "source": [
    "X,y = load_breast_cancer(return_X_y=True)\n",
    "\n",
    "scaler = StandardScaler()\n",
    "X_scaled = scaler.fit_transform(X)"
   ]
  },
  {
   "cell_type": "code",
   "execution_count": 3,
   "id": "4d7c0546",
   "metadata": {},
   "outputs": [],
   "source": [
    "from sklearn.model_selection import cross_val_score\n",
    "\n",
    "clf = KNeighborsClassifier()\n",
    "\n",
    "scores = cross_val_score(clf,X_scaled,y,cv=5)"
   ]
  },
  {
   "cell_type": "code",
   "execution_count": 4,
   "id": "971307dd",
   "metadata": {},
   "outputs": [
    {
     "data": {
      "text/plain": [
       "array([0.96491228, 0.95614035, 0.98245614, 0.95614035, 0.96460177])"
      ]
     },
     "execution_count": 4,
     "metadata": {},
     "output_type": "execute_result"
    }
   ],
   "source": [
    "scores"
   ]
  },
  {
   "cell_type": "code",
   "execution_count": 5,
   "id": "2cdf41a2",
   "metadata": {},
   "outputs": [
    {
     "data": {
      "text/plain": [
       "np.float64(0.9648501785437045)"
      ]
     },
     "execution_count": 5,
     "metadata": {},
     "output_type": "execute_result"
    }
   ],
   "source": [
    "import numpy as np\n",
    "\n",
    "np.mean(scores)"
   ]
  }
 ],
 "metadata": {
  "kernelspec": {
   "display_name": ".venv (3.13.2)",
   "language": "python",
   "name": "python3"
  },
  "language_info": {
   "codemirror_mode": {
    "name": "ipython",
    "version": 3
   },
   "file_extension": ".py",
   "mimetype": "text/x-python",
   "name": "python",
   "nbconvert_exporter": "python",
   "pygments_lexer": "ipython3",
   "version": "3.13.2"
  }
 },
 "nbformat": 4,
 "nbformat_minor": 5
}
