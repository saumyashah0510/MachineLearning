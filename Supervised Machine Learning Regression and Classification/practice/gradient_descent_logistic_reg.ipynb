{
 "cells": [
  {
   "cell_type": "code",
   "execution_count": 1,
   "id": "6cb4df17",
   "metadata": {},
   "outputs": [],
   "source": [
    "import numpy as np\n",
    "%matplotlib widget\n",
    "import matplotlib.pyplot as plt\n",
    "from lab_utils_common import  plot_data, sigmoid, dlc\n",
    "plt.style.use('./deeplearning.mplstyle')"
   ]
  },
  {
   "cell_type": "code",
   "execution_count": 2,
   "id": "65094b62",
   "metadata": {},
   "outputs": [],
   "source": [
    "def sigmoid(z):\n",
    "    return 1 / (1 + np.exp(-z))"
   ]
  },
  {
   "cell_type": "code",
   "execution_count": null,
   "id": "37d4398e",
   "metadata": {},
   "outputs": [],
   "source": [
    "def compute_cost_logistics(x,y,w,b):\n",
    "\n",
    "    m = x.shape[0]\n",
    "    cost = 0\n",
    "\n",
    "    for i in range(m):\n",
    "        z_i = np.dot(x[i],w) + b\n",
    "        f_wb_i = sigmoid(z_i)\n",
    "        cost +=  -y[i]*np.log(f_wb_i) - (1-y[i])*np.log(1-f_wb_i)\n",
    "    cost = cost/m\n",
    "\n",
    "    return cost    \n"
   ]
  },
  {
   "cell_type": "code",
   "execution_count": 3,
   "id": "c0ddf89b",
   "metadata": {},
   "outputs": [],
   "source": [
    "def compute_gradient(x,y,w,b):\n",
    "\n",
    "    m,n = x.shape\n",
    "    dj_dw = np.zeros((n,))\n",
    "    dj_db = 0\n",
    "\n",
    "    for i in range(m):\n",
    "\n",
    "        f_wb = sigmoid(np.dot(w,x[i]) + b)\n",
    "        error = f_wb - y[i]\n",
    "\n",
    "        for j in range(n):\n",
    "            dj_dw[j] = dj_dw[j] + error*x[i,j]\n",
    "\n",
    "        dj_db = dj_db + error\n",
    "\n",
    "    dj_db = dj_db/m\n",
    "    dj_dw = dj_dw/m\n",
    "\n",
    "    return dj_dw,dj_db        "
   ]
  },
  {
   "cell_type": "code",
   "execution_count": 4,
   "id": "22d607d8",
   "metadata": {},
   "outputs": [],
   "source": [
    "# Vectorized Version\n",
    "\n",
    "def gradient_vectorized(x,y,w,b):\n",
    "\n",
    "    m,n = x.shape\n",
    "    \n",
    "    f_wb = sigmoid(np.dot(x,w) + b)\n",
    "    error = f_wb - y\n",
    "\n",
    "    dj_dw = (1/m) * (np.dot(x.T,error))\n",
    "    dj_db = (1/m) * np.sum(error)\n",
    "\n",
    "    return dj_dw,dj_db"
   ]
  },
  {
   "cell_type": "code",
   "execution_count": null,
   "id": "33f3bded",
   "metadata": {},
   "outputs": [],
   "source": []
  }
 ],
 "metadata": {
  "kernelspec": {
   "display_name": ".venv (3.13.2)",
   "language": "python",
   "name": "python3"
  },
  "language_info": {
   "codemirror_mode": {
    "name": "ipython",
    "version": 3
   },
   "file_extension": ".py",
   "mimetype": "text/x-python",
   "name": "python",
   "nbconvert_exporter": "python",
   "pygments_lexer": "ipython3",
   "version": "3.13.2"
  }
 },
 "nbformat": 4,
 "nbformat_minor": 5
}
