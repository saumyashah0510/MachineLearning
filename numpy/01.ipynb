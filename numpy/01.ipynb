{
 "cells": [
  {
   "cell_type": "markdown",
   "id": "0b7ecb79",
   "metadata": {},
   "source": [
    "## Numpy array and basics\n"
   ]
  },
  {
   "cell_type": "code",
   "execution_count": 1,
   "id": "24fdc106",
   "metadata": {},
   "outputs": [],
   "source": [
    "import numpy as np"
   ]
  },
  {
   "cell_type": "markdown",
   "id": "3e893225",
   "metadata": {},
   "source": [
    "### Create array from list"
   ]
  },
  {
   "cell_type": "code",
   "execution_count": 3,
   "id": "1d829db0",
   "metadata": {},
   "outputs": [
    {
     "name": "stdout",
     "output_type": "stream",
     "text": [
      "1D array :  [1 2 3 4 5]\n",
      "2D array :  [[1 2 3]\n",
      " [4 5 6]]\n"
     ]
    }
   ],
   "source": [
    "arr_1D = np.array([1,2,3,4,5])\n",
    "print(\"1D array : \", arr_1D)\n",
    "\n",
    "arr_2D = np.array([[1,2,3],[4,5,6]])\n",
    "print(\"2D array : \",arr_2D)"
   ]
  },
  {
   "cell_type": "markdown",
   "id": "d4ddcfa1",
   "metadata": {},
   "source": [
    "### List vs Numpy array\n"
   ]
  },
  {
   "cell_type": "code",
   "execution_count": 4,
   "id": "cb0e454d",
   "metadata": {},
   "outputs": [
    {
     "name": "stdout",
     "output_type": "stream",
     "text": [
      "Python List Multiplication :  [1, 2, 3, 1, 2, 3]\n",
      "Python array Multiplication :  [2 4 6]\n"
     ]
    }
   ],
   "source": [
    "py_list = [1,2,3]\n",
    "print(\"Python List Multiplication : \",py_list*2)\n",
    "\n",
    "np_array = np.array([1,2,3])\n",
    "print(\"Python array Multiplication : \",np_array*2)"
   ]
  },
  {
   "cell_type": "markdown",
   "id": "fee62aec",
   "metadata": {},
   "source": [
    "### Creating Array from scratch"
   ]
  },
  {
   "cell_type": "code",
   "execution_count": 9,
   "id": "92dfbb04",
   "metadata": {},
   "outputs": [
    {
     "name": "stdout",
     "output_type": "stream",
     "text": [
      "zeros array: \n",
      " [[0. 0. 0. 0.]\n",
      " [0. 0. 0. 0.]\n",
      " [0. 0. 0. 0.]]\n",
      "ones array: \n",
      " [[1. 1. 1. 1.]\n",
      " [1. 1. 1. 1.]\n",
      " [1. 1. 1. 1.]]\n",
      "Full array: \n",
      " [[7 7]\n",
      " [7 7]]\n",
      "random array: \n",
      " [[0.81554751 0.9918402  0.29263091]\n",
      " [0.22179263 0.49237381 0.48866858]]\n",
      "sequence array: \n",
      " [0 2 4 6 8]\n"
     ]
    }
   ],
   "source": [
    "zeros = np.zeros((3,4))\n",
    "print(\"zeros array: \\n\",zeros)\n",
    "\n",
    "ones = np.ones((3,4))\n",
    "print(\"ones array: \\n\",ones)\n",
    "\n",
    "full = np.full((2,2),7)\n",
    "print(\"Full array: \\n\",full)\n",
    "\n",
    "random = np.random.random((2,3))\n",
    "print(\"random array: \\n\",random)\n",
    "\n",
    "sequence = np.arange(0,10,2)\n",
    "print(\"sequence array: \\n\",sequence)"
   ]
  },
  {
   "cell_type": "markdown",
   "id": "f73ca188",
   "metadata": {},
   "source": [
    "### Vector, Matrix and Tensor"
   ]
  },
  {
   "cell_type": "code",
   "execution_count": 11,
   "id": "4f2eff9c",
   "metadata": {},
   "outputs": [
    {
     "name": "stdout",
     "output_type": "stream",
     "text": [
      "vector:  [1 2 3]\n",
      "matrix: \n",
      " [[1 2 3]\n",
      " [4 5 6]]\n",
      "tensor: \n",
      " [[[1 2]\n",
      "  [3 4]]\n",
      "\n",
      " [[5 6]\n",
      "  [7 8]]]\n"
     ]
    }
   ],
   "source": [
    "vector = np.array([1,2,3])\n",
    "print(\"vector: \", vector)\n",
    "\n",
    "matrix = np.array([[1,2,3],[4,5,6]])\n",
    "print(\"matrix: \\n\", matrix)\n",
    "\n",
    "tensor = np.array([[[1,2],[3,4]],\n",
    "                    [[5,6],[7,8]]])\n",
    "print(\"tensor: \\n\", tensor)"
   ]
  },
  {
   "cell_type": "markdown",
   "id": "604863eb",
   "metadata": {},
   "source": [
    "### Array properties\n"
   ]
  },
  {
   "cell_type": "code",
   "execution_count": 13,
   "id": "6565659f",
   "metadata": {},
   "outputs": [
    {
     "name": "stdout",
     "output_type": "stream",
     "text": [
      "Shape: (2, 3)\n",
      "Dimension: 2\n",
      "Size: 6\n",
      "Data Type: int64\n"
     ]
    }
   ],
   "source": [
    "arr = np.array([[1,2,3],\n",
    "                [4,5,6]])\n",
    "print(\"Shape:\", arr.shape)\n",
    "print(\"Dimension:\", arr.ndim)\n",
    "print(\"Size:\", arr.size)\n",
    "print(\"Data Type:\", arr.dtype)"
   ]
  },
  {
   "cell_type": "markdown",
   "id": "18654fe9",
   "metadata": {},
   "source": [
    "### Array reshaping"
   ]
  },
  {
   "cell_type": "code",
   "execution_count": 21,
   "id": "f0a80fc3",
   "metadata": {},
   "outputs": [
    {
     "name": "stdout",
     "output_type": "stream",
     "text": [
      "Original array  [ 0  1  2  3  4  5  6  7  8  9 10 11]\n",
      "\n",
      " Reshaped array \n",
      " [[ 0  1  2  3]\n",
      " [ 4  5  6  7]\n",
      " [ 8  9 10 11]]\n",
      "\n",
      " Flattened array  [ 0  1  2  3  4  5  6  7  8  9 10 11]\n",
      "\n",
      " Raveled array  [ 0  1  2  3  4  5  6  7  8  9 10 11]\n",
      "\n",
      " Transposed array \n",
      " [[ 0  4  8]\n",
      " [ 1  5  9]\n",
      " [ 2  6 10]\n",
      " [ 3  7 11]]\n"
     ]
    }
   ],
   "source": [
    "arr = np.arange(12)\n",
    "print(\"Original array \",arr)\n",
    "\n",
    "reshaped = arr.reshape((3,4))\n",
    "print(\"\\n Reshaped array \\n\",reshaped)\n",
    "\n",
    "flattened = reshaped.flatten()\n",
    "print(\"\\n Flattened array \",flattened)\n",
    "\n",
    "# Returns view instead of array\n",
    "raveled = reshaped.ravel()\n",
    "print(\"\\n Raveled array \",raveled)\n",
    "\n",
    "transpose = reshaped.T\n",
    "print(\"\\n Transposed array \\n\",transpose)"
   ]
  }
 ],
 "metadata": {
  "kernelspec": {
   "display_name": ".venv (3.13.2)",
   "language": "python",
   "name": "python3"
  },
  "language_info": {
   "codemirror_mode": {
    "name": "ipython",
    "version": 3
   },
   "file_extension": ".py",
   "mimetype": "text/x-python",
   "name": "python",
   "nbconvert_exporter": "python",
   "pygments_lexer": "ipython3",
   "version": "3.13.2"
  }
 },
 "nbformat": 4,
 "nbformat_minor": 5
}
